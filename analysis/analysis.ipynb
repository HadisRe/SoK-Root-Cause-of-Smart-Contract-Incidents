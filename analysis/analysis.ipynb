{
 "cells": [
  {
   "cell_type": "code",
   "execution_count": null,
   "id": "37e28dc6",
   "metadata": {},
   "outputs": [],
   "source": [
    "pip install plotly"
   ]
  },
  {
   "cell_type": "code",
   "execution_count": null,
   "id": "48374e84",
   "metadata": {},
   "outputs": [],
   "source": [
    "import plotly.graph_objects as go\n",
    "import pandas as pd\n",
    "\n",
    "nodes = pd.read_csv(\"\n",
    "_nodes.csv\")   # or use the DataFrame shown\n",
    "links = pd.read_csv(\"sankey_links.csv\")\n",
    "\n",
    "fig = go.Figure(data=[go.Sankey(\n",
    "        arrangement=\"snap\",\n",
    "        node=dict(\n",
    "            pad=12,\n",
    "            thickness=18,\n",
    "            label=nodes[\"label\"],\n",
    "            hovertemplate=\"%{label}<extra></extra>\"\n",
    "        ),\n",
    "        link=dict(\n",
    "            source=links[\"source\"],\n",
    "            target=links[\"target\"],\n",
    "            value =links[\"value\"],\n",
    "            hovertemplate=\"%{value} incidents<extra></extra>\"\n",
    "        )\n",
    ")])\n",
    "fig.update_layout(title_text=\"Smart-Contract Incidents:  Vulnerability → Attack Vector → Loss Bracket\")\n",
    "fig.show()"
   ]
  },
  {
   "cell_type": "code",
   "execution_count": null,
   "id": "32e63a0a",
   "metadata": {},
   "outputs": [],
   "source": [
    "import pandas as pd\n",
    "import plotly.graph_objects as go\n",
    "\n",
    "# Create a dataset based on the analysis of the appendix.\n",
    "# Columns: ID, Vulnerabilities, Attack_Vectors, Loss_USD\n",
    "data = {\n",
    "    'ID': [1, 2, 3, 4, 5, 6, 7, 8, 9, 10, 11, 12, 13, 14, 15, 16, 17, 18, 19, 20, 21, 22, 23, 24, 25, 26, 27, 28, 29, 30, 31, 32, 33, 34, 35, 36, 37, 38, 39, 40, 41, 42, 43, 44, 45, 46, 47, 48, 49, 50],\n",
    "    'Vulnerabilities': [\n",
    "        'Access Control;Business Logic', 'Access Control', 'Price Manipulation', 'Price Manipulation', 'Reentrancy',\n",
    "        'Access Control', 'Business Logic', 'Reentrancy', 'Rounding Error', 'Price Manipulation', 'Access Control',\n",
    "        'Access Control', 'Input Validation', 'Access Control', 'Access Control;Input Validation', 'Misconfiguration',\n",
    "        'Rounding Error', 'Unchecked Call Return Value;Access Control', 'Price Manipulation;Rounding Error',\n",
    "        'Business Logic;Rounding Error', 'Price Manipulation', 'Integer Underflow', 'Access Control', 'Price Manipulation',\n",
    "        'Reentrancy', 'Price Manipulation;Access Control', 'Storage Collision', 'Business Logic', 'Input Validation',\n",
    "        'Price Manipulation', 'Access Control;Input Validation', 'Input Validation', 'Reentrancy', 'Governance',\n",
    "        'Input Validation', 'Rounding Error', 'Price Manipulation', 'Price Manipulation', 'Integer Underflow',\n",
    "        'Access Control;Governance', 'Dangerous Delegatecall', 'Input Validation', 'Dangerous Delegatecall',\n",
    "        'Price Manipulation', 'Reentrancy', 'Governance', 'Reentrancy;Price Manipulation', 'Price Manipulation;Access Control',\n",
    "        'Access Control', 'Reentrancy'\n",
    "    ],\n",
    "    'Attack_Vectors': [\n",
    "        'Flash Loan;Logic Abuse', 'Flawed Upgrade', 'Oracle Manipulation', 'Flash Loan;Logic Abuse', 'Flash Loan;Reentrancy Callback',\n",
    "        'Privilege Abuse', 'Flash Loan;Logic Abuse', 'Flash Loan;Reentrancy Callback', 'Flash Loan;Logic Abuse', 'Oracle Manipulation',\n",
    "        'Privilege Abuse', 'Logic Abuse', 'Logic Abuse', 'Flawed Upgrade', 'Logic Abuse', 'Logic Abuse',\n",
    "        'Flash Loan;Logic Abuse', 'Logic Abuse', 'Flash Loan;Logic Abuse', 'Flash Loan;Logic Abuse', 'Oracle Manipulation',\n",
    "        'Logic Abuse', 'Logic Abuse', 'Flash Loan;Logic Abuse', 'Reentrancy Callback;Oracle Manipulation', 'Oracle Manipulation',\n",
    "        'Logic Abuse', 'Logic Abuse', 'Flash Loan;Logic Abuse', 'Flash Loan;Logic Abuse', 'Delegatecall', 'Flash Loan;Logic Abuse',\n",
    "        'Reentrancy Callback', 'Governance Proposal', 'Logic Abuse', 'Flash Loan;Logic Abuse', 'Privilege Abuse;Oracle Manipulation',\n",
    "        'Flash Loan;Oracle Manipulation', 'Flash Loan;Logic Abuse', 'Governance Proposal;Delegatecall', 'Delegatecall', 'Logic Abuse',\n",
    "        'Privilege Abuse;Delegatecall', 'Flash Loan;Oracle Manipulation', 'Reentrancy Callback;Oracle Manipulation', 'Governance Proposal',\n",
    "        'Flash Loan;Reentrancy Callback;Oracle Manipulation', 'Flash Loan;Logic Abuse', 'Flawed Upgrade', 'Flash Loan;Reentrancy Callback'\n",
    "    ],\n",
    "    'Loss_USD': [\n",
    "        197000000, 190000000, 120000000, 85000000, 80000000, 49500000, 48000000, 27000000, 20000000, 15600000,\n",
    "        14400000, 6500000, 6900000, 12000000, 11600000, 11400000, 9600000, 11600000, 7400000, 6500000,\n",
    "        6500000, 5000000, 4900000, 4500000, 4200000, 7500000, 355000, 13000000, 4850000, 3800000, 2000000,\n",
    "        2100000, 501279, 2173500, 15800000, 3600000, 7500000, 19400000, 6800000, 16000000, 2100000,\n",
    "        6400000, 2700000, 2100000, 3400000, 2500000, 800000, 7500000, 3000000, 3000000\n",
    "    ]\n",
    "}\n",
    "df = pd.DataFrame(data)\n",
    "\n",
    "# Define Loss Brackets\n",
    "def get_loss_bracket(loss):\n",
    "    if loss > 50000000:\n",
    "        return 'Major Loss (> $50M)'\n",
    "    elif loss > 10000000:\n",
    "        return 'High Loss ($10M - $50M)'\n",
    "    elif loss > 1000000:\n",
    "        return 'Medium Loss ($1M - $10M)'\n",
    "    else:\n",
    "        return 'Low Loss (< $1M)'\n",
    "df['Loss_Bracket'] = df['Loss_USD'].apply(get_loss_bracket)\n",
    "\n",
    "# Explode the dataframe to handle multiple vulnerabilities and vectors per incident\n",
    "df_exp = df.assign(Vulnerabilities=df['Vulnerabilities'].str.split(';'),\n",
    "                   Attack_Vectors=df['Attack_Vectors'].str.split(';')).explode('Vulnerabilities').explode('Attack_Vectors')\n",
    "\n",
    "\n",
    "# Simplify Categories for a cleaner Sankey Diagram\n",
    "def simplify_vulnerability(vuln):\n",
    "    if vuln in ['Access Control', 'Misconfiguration', 'Unchecked Call Return Value', 'Input Validation', 'Storage Collision']:\n",
    "        return 'Access, Input & State'\n",
    "    if vuln in ['Price Manipulation', 'Business Logic', 'Rounding Error', 'Integer Underflow']:\n",
    "        return 'Price & Economic Logic'\n",
    "    if vuln in ['Governance', 'Dangerous Delegatecall']:\n",
    "        return 'Governance & Upgradability'\n",
    "    if vuln in ['Reentrancy']:\n",
    "        return 'Reentrancy'\n",
    "    return 'Other'\n",
    "\n",
    "def simplify_vector(vec):\n",
    "    if vec in ['Flash Loan', 'Oracle Manipulation', 'Logic Abuse']:\n",
    "        return 'Economic Exploit'\n",
    "    if vec in ['Privilege Abuse', 'Flawed Upgrade']:\n",
    "        return 'Permission & Upgrade Abuse'\n",
    "    if vec in ['Governance Proposal']:\n",
    "        return 'Governance Proposal'\n",
    "    if vec in ['Reentrancy Callback']:\n",
    "        return 'Reentrancy Callback'\n",
    "    if vec in ['Delegatecall']:\n",
    "        return 'Delegatecall'\n",
    "    return 'Other'\n",
    "\n",
    "df_exp['Vulnerability_Group'] = df_exp['Vulnerabilities'].apply(simplify_vulnerability)\n",
    "df_exp['Attack_Vector_Group'] = df_exp['Attack_Vectors'].apply(simplify_vector)\n",
    "\n",
    "# Create links for the Sankey diagram\n",
    "# Flow 1: Vulnerability -> Attack Vector\n",
    "flow1 = df_exp.groupby(['Vulnerability_Group', 'Attack_Vector_Group']).size().reset_index(name='value')\n",
    "flow1.columns = ['source', 'target', 'value']\n",
    "\n",
    "# Flow 2: Attack Vector -> Loss Bracket\n",
    "flow2 = df_exp.groupby(['Attack_Vector_Group', 'Loss_Bracket']).size().reset_index(name='value')\n",
    "flow2.columns = ['source', 'target', 'value']\n",
    "\n",
    "# Combine flows\n",
    "all_links = pd.concat([flow1, flow2], axis=0)\n",
    "\n",
    "# Create the list of unique nodes\n",
    "unique_nodes = pd.unique(all_links[['source', 'target']].values.ravel('K'))\n",
    "node_map = {node: i for i, node in enumerate(unique_nodes)}\n",
    "\n",
    "# Map sources and targets to numerical indices\n",
    "all_links['source'] = all_links['source'].map(node_map)\n",
    "all_links['target'] = all_links['target'].map(node_map)\n",
    "\n",
    "# Define node colors - assigning colors to each group for better visualization\n",
    "colors = {\n",
    "    'Access, Input & State': '#1f77b4', # Muted Blue\n",
    "    'Price & Economic Logic': '#ff7f0e', # Safety Orange\n",
    "    'Reentrancy': '#d62728', # Brick Red\n",
    "    'Governance & Upgradability': '#9467bd', # Muted Purple\n",
    "    'Economic Exploit': '#2ca02c', # Cooked Asparagus Green\n",
    "    'Permission & Upgrade Abuse': '#8c564b', # Chestnut\n",
    "    'Reentrancy Callback': '#e377c2', # Razzle Dazzle Rose\n",
    "    'Governance Proposal': '#7f7f7f', # Middle Gray\n",
    "    'Delegatecall': '#bcbd22', # Murky Yellow\n",
    "    'Major Loss (> $50M)': '#EF553B', # Red\n",
    "    'High Loss ($10M - $50M)': '#FECB52', # Yellow\n",
    "    'Medium Loss ($1M - $10M)': '#00CC96', # Green\n",
    "    'Low Loss (< $1M)': '#636EFA' # Blue\n",
    "}\n",
    "node_colors = [colors.get(node, '#A9A9A9') for node in unique_nodes]\n",
    "\n",
    "\n",
    "# Create the Sankey diagram\n",
    "fig = go.Figure(data=[go.Sankey(\n",
    "    node=dict(\n",
    "        pad=25,\n",
    "        thickness=20,\n",
    "        line=dict(color=\"black\", width=0.5),\n",
    "        label=unique_nodes,\n",
    "        color=node_colors\n",
    "    ),\n",
    "    link=dict(\n",
    "        source=all_links['source'],\n",
    "        target=all_links['target'],\n",
    "        value=all_links['value']\n",
    "    ))])\n",
    "\n",
    "fig.update_layout(title_text=\"Flow of Vulnerabilities to Financial Loss in Smart Contract Hacks\",\n",
    "                  font_size=12,\n",
    "                  width=1000,\n",
    "                  height=700)\n",
    "fig.show()\n"
   ]
  },
  {
   "cell_type": "code",
   "execution_count": null,
   "id": "e4cb69f8",
   "metadata": {},
   "outputs": [],
   "source": [
    "import pandas as pd\n",
    "import plotly.graph_objects as go\n",
    "\n",
    "# Data extracted from the appendix, focusing on multi-vulnerability incidents\n",
    "attack_chains_data = {\n",
    "    'chain': [\n",
    "        'Access Control->Business Logic Flaw',\n",
    "        'Access Control->Input Validation',\n",
    "        'Access Control->Input Validation',\n",
    "        'Access Control->Price Manipulation',\n",
    "        'Access Control->Price Manipulation',\n",
    "        'Business Logic Flaw->Rounding Error',\n",
    "        'Reentrancy->Price Manipulation',\n",
    "        'Reentrancy->Price Manipulation',\n",
    "        'Reentrancy->Price Manipulation',\n",
    "        'Price Manipulation->Rounding Error',\n",
    "        'Price Manipulation->Input Validation',\n",
    "        'Input Validation->Dangerous Delegatecall',\n",
    "        'Governance->Dangerous Delegatecall',\n",
    "        'Private Key Compromise->Price Manipulation',\n",
    "        'Private Key Compromise->Dangerous Delegatecall'\n",
    "    ],\n",
    "    'loss_usd': [\n",
    "        197000000,  # Euler Finance\n",
    "        6900000,    # Ionic Money (simplified chain)\n",
    "        11600000,   # LI.FI\n",
    "        7500000,    # KiloEx\n",
    "        7500000,    # Jimbo's Protocol\n",
    "        6500000,    # Abracadabra Money\n",
    "        4200000,    # Conic Finance\n",
    "        3400000,    # EraLend\n",
    "        800000,     # Sturdy Finance\n",
    "        7400000,    # Hundred Finance\n",
    "        3800000,    # Onyx Protocol\n",
    "        2000000,    # Dexible\n",
    "        16000000,   # Curio\n",
    "        7500000,    # Rho Market\n",
    "        2700000     # OKX DEX\n",
    "    ]\n",
    "}\n",
    "\n",
    "df = pd.DataFrame(attack_chains_data)\n",
    "\n",
    "# Split chain into source and target vulnerabilities\n",
    "df[['vuln1', 'vuln2']] = df['chain'].str.split('->', expand=True)\n",
    "\n",
    "# Define Loss Brackets\n",
    "def get_loss_bracket(loss):\n",
    "    if loss > 50000000:\n",
    "        return 'Major Loss (> $50M)'\n",
    "    elif loss > 10000000:\n",
    "        return 'High Loss ($10M - $50M)'\n",
    "    elif loss > 1000000:\n",
    "        return 'Medium Loss ($1M - $10M)'\n",
    "    else:\n",
    "        return 'Low Loss (< $1M)'\n",
    "df['loss_bracket'] = df['loss_usd'].apply(get_loss_bracket)\n",
    "\n",
    "# Prepare links for the Sankey diagram\n",
    "# Flow 1: Vulnerability 1 -> Vulnerability 2\n",
    "flow1 = df.groupby(['vuln1', 'vuln2']).size().reset_index(name='value')\n",
    "flow1.columns = ['source', 'target', 'value']\n",
    "\n",
    "# Flow 2: Vulnerability 2 -> Loss Bracket\n",
    "flow2 = df.groupby(['vuln2', 'loss_bracket']).size().reset_index(name='value')\n",
    "flow2.columns = ['source', 'target', 'value']\n",
    "\n",
    "# Combine flows\n",
    "all_links = pd.concat([flow1, flow2], axis=0)\n",
    "\n",
    "# Create the list of unique nodes and map them to indices\n",
    "unique_nodes = pd.unique(all_links[['source', 'target']].values.ravel('K'))\n",
    "node_map = {node: i for i, node in enumerate(unique_nodes)}\n",
    "\n",
    "all_links['source'] = all_links['source'].map(node_map)\n",
    "all_links['target'] = all_links['target'].map(node_map)\n",
    "\n",
    "# Define node colors for clarity\n",
    "node_colors = [\n",
    "    '#1f77b4', '#aec7e8', '#ff7f0e', '#ffbb78', '#2ca02c', '#98df8a',\n",
    "    '#d62728', '#ff9896', '#9467bd', '#c5b0d5', '#8c564b', '#c49c94',\n",
    "    '#e377c2', '#f7b6d2', '#7f7f7f', '#c7c7c7'\n",
    "]\n",
    "# Assign specific colors to loss brackets for emphasis\n",
    "color_map = {\n",
    "    'Major Loss (> $50M)': '#d62728',\n",
    "    'High Loss ($10M - $50M)': '#ff7f0e',\n",
    "    'Medium Loss ($1M - $10M)': '#2ca02c',\n",
    "    'Low Loss (< $1M)': '#1f77b4'\n",
    "}\n",
    "plot_node_colors = [color_map.get(node, '#A9A9A9') for node in unique_nodes]\n",
    "\n",
    "\n",
    "# Create the Sankey diagram\n",
    "fig = go.Figure(data=[go.Sankey(\n",
    "    arrangement='snap',\n",
    "    node=dict(\n",
    "        pad=25,\n",
    "        thickness=20,\n",
    "        line=dict(color=\"black\", width=0.5),\n",
    "        label=unique_nodes,\n",
    "        color=plot_node_colors\n",
    "    ),\n",
    "    link=dict(\n",
    "        source=all_links['source'],\n",
    "        target=all_links['target'],\n",
    "        value=all_links['value']\n",
    "    ))])\n",
    "\n",
    "fig.update_layout(\n",
    "    title_text=\"Exploit Chains: Flow of Multi-Vulnerability Attacks to Financial Loss\",\n",
    "    font_size=12,\n",
    "    width=1000,\n",
    "    height=700\n",
    ")\n",
    "\n",
    "fig.show()"
   ]
  },
  {
   "cell_type": "code",
   "execution_count": null,
   "id": "6c0269d4",
   "metadata": {},
   "outputs": [],
   "source": [
    "import pandas as pd\n",
    "import plotly.graph_objects as go\n",
    "import plotly.colors\n",
    "\n",
    "# Manually compiled data of multi-vulnerability attack chains, now including incident names for the legend.\n",
    "attack_chains_data = [\n",
    "    {'chain_name': 'Euler Finance', 'vuln_entry': 'Access Control', 'vuln_payload': 'Business Logic', 'count': 1, 'loss': 197000000},\n",
    "    {'chain_name': 'LI.FI, Dexible', 'vuln_entry': 'Input Validation', 'vuln_payload': 'Unsafe Call/Delegatecall', 'count': 3, 'loss': 11600000 * 2 + 2000000},\n",
    "    {'chain_name': 'Hundred, Abracadabra', 'vuln_entry': 'Price/Logic', 'vuln_payload': 'Rounding Error', 'count': 2, 'loss': 7400000 + 6500000},\n",
    "    {'chain_name': 'Conic, EraLend, Sturdy', 'vuln_entry': 'Reentrancy', 'vuln_payload': 'Price Manipulation', 'count': 3, 'loss': 4200000 + 3400000 + 800000},\n",
    "    {'chain_name': 'KiloEx, Jimbo\\'s', 'vuln_entry': 'Access Control', 'vuln_payload': 'Price Manipulation', 'count': 2, 'loss': 7500000 * 2},\n",
    "    {'chain_name': 'Onyx Protocol', 'vuln_entry': 'Price Manipulation', 'vuln_payload': 'Input Validation', 'count': 1, 'loss': 3800000},\n",
    "    {'chain_name': 'Curio, OKX DEX', 'vuln_entry': 'Governance', 'vuln_payload': 'Dangerous Delegatecall', 'count': 2, 'loss': 16000000 + 2700000},\n",
    "    {'chain_name': 'Rho Market', 'vuln_entry': 'Privilege Abuse', 'vuln_payload': 'Price Manipulation', 'count': 1, 'loss': 7500000},\n",
    "]\n",
    "\n",
    "df_chains = pd.DataFrame(attack_chains_data)\n",
    "\n",
    "# Define Loss Brackets\n",
    "def get_loss_bracket(loss, count):\n",
    "    avg_loss = loss / count\n",
    "    if avg_loss > 50000000:\n",
    "        return 'Major Loss (> $50M)'\n",
    "    elif avg_loss > 10000000:\n",
    "        return 'High Loss ($10M - $50M)'\n",
    "    elif avg_loss > 1000000:\n",
    "        return 'Medium Loss ($1M - $10M)'\n",
    "    else:\n",
    "        return 'Low Loss (< $1M)'\n",
    "\n",
    "df_chains['Loss_Bracket'] = df_chains.apply(lambda row: get_loss_bracket(row['loss'], row['count']), axis=1)\n",
    "\n",
    "# --- Prepare data for Sankey ---\n",
    "# Define a color palette\n",
    "color_palette = plotly.colors.qualitative.Plotly\n",
    "df_chains['color'] = [color_palette[i % len(color_palette)] for i in range(len(df_chains))]\n",
    "\n",
    "# Create a list of all nodes\n",
    "all_nodes = pd.concat([df_chains['vuln_entry'], df_chains['vuln_payload'], df_chains['Loss_Bracket']]).unique()\n",
    "node_map = {node: i for i, node in enumerate(all_nodes)}\n",
    "\n",
    "# Create links and link_colors\n",
    "links = {'source': [], 'target': [], 'value': [], 'color': []}\n",
    "for _, row in df_chains.iterrows():\n",
    "    # Flow 1: Entry -> Payload\n",
    "    links['source'].append(node_map[row['vuln_entry']])\n",
    "    links['target'].append(node_map[row['vuln_payload']])\n",
    "    links['value'].append(row['count'])\n",
    "    links['color'].append(row['color'])\n",
    "    \n",
    "    # Flow 2: Payload -> Loss Bracket\n",
    "    links['source'].append(node_map[row['vuln_payload']])\n",
    "    links['target'].append(node_map[row['Loss_Bracket']])\n",
    "    links['value'].append(row['count'])\n",
    "    links['color'].append(row['color'])\n",
    "\n",
    "# --- Create the Figure ---\n",
    "link_colors_rgba = [f'rgba({int(c[1:3], 16)}, {int(c[3:5], 16)}, {int(c[5:7], 16)}, 0.6)' for c in links['color']]\n",
    "\n",
    "fig = go.Figure(data=[go.Sankey(\n",
    "    arrangement='snap',\n",
    "    node=dict(\n",
    "        pad=25,\n",
    "        thickness=20,\n",
    "        line=dict(color=\"black\", width=0.5),\n",
    "        label=all_nodes,\n",
    "        color='rgba(200, 200, 200, 0.8)' # Use a neutral color for nodes\n",
    "    ),\n",
    "    link=dict(\n",
    "        source=links['source'],\n",
    "        target=links['target'],\n",
    "        value=links['value'],\n",
    "        color=link_colors_rgba # Use the correctly formatted list of colors\n",
    "    ))])\n",
    "\n",
    "\n",
    "\n",
    "# --- Create Custom Legend ---\n",
    "annotations = []\n",
    "legend_y = 1.0\n",
    "for _, row in df_chains.iterrows():\n",
    "    annotations.append(dict(\n",
    "        x=1.05,\n",
    "        y=legend_y,\n",
    "        xref='paper',\n",
    "        yref='paper',\n",
    "        text=f\"<span style='color:{row['color']}; font-size: 18px;'>■</span> {row['chain_name']}\",\n",
    "        showarrow=False,\n",
    "        align='left',\n",
    "        xanchor='left',\n",
    "        yanchor='top'\n",
    "    ))\n",
    "    legend_y -= 0.06 # Adjust vertical spacing\n",
    "\n",
    "fig.update_layout(\n",
    "    title_text=\"Exploit Chains: Visualizing Multi-Vulnerability Attack Paths\",\n",
    "    font_size=12,\n",
    "    width=1200,\n",
    "    height=700,\n",
    "    margin=dict(l=20, r=250, b=50, t=100), # Increase right margin for legend\n",
    "    annotations=annotations\n",
    ")\n",
    "\n",
    "fig.show()"
   ]
  },
  {
   "cell_type": "code",
   "execution_count": null,
   "id": "a27546e9",
   "metadata": {},
   "outputs": [],
   "source": [
    "import pandas as pd\n",
    "import plotly.graph_objects as go\n",
    "import plotly.colors\n",
    "\n",
    "# Manually compiled data focusing only on multi-vulnerability attack chains.\n",
    "# The 'vuln_entry' is the first flaw exploited, which then enables the 'vuln_payload'.\n",
    "attack_chains_data = [\n",
    "    {'chain_name': 'Euler Finance', 'vuln_entry': 'Access Control', 'vuln_payload': 'Business Logic', 'count': 1, 'loss': 197000000},\n",
    "    {'chain_name': 'LI.FI (x2), Dexible', 'vuln_entry': 'Access / Input Validation', 'vuln_payload': 'Unsafe External Call', 'count': 3, 'loss': 11600000 * 2 + 2000000},\n",
    "    {'chain_name': 'Hundred Finance, Abracadabra', 'vuln_entry': 'Price & Logic Flaw', 'vuln_payload': 'Rounding Error', 'count': 2, 'loss': 7400000 + 6500000},\n",
    "    {'chain_name': 'Conic, EraLend, Sturdy', 'vuln_entry': 'Reentrancy', 'vuln_payload': 'Price Manipulation', 'count': 3, 'loss': 4200000 + 3400000 + 800000},\n",
    "    {'chain_name': 'KiloEx, Jimbo\\'s Protocol', 'vuln_entry': 'Access Control', 'vuln_payload': 'Price Manipulation', 'count': 2, 'loss': 7500000 * 2},\n",
    "    {'chain_name': 'Onyx Protocol', 'vuln_entry': 'Price Manipulation', 'vuln_payload': 'Input Validation', 'count': 1, 'loss': 3800000},\n",
    "    {'chain_name': 'Curio, OKX DEX', 'vuln_entry': 'Governance / Privilege Abuse', 'vuln_payload': 'Dangerous Delegatecall', 'count': 2, 'loss': 16000000 + 2700000},\n",
    "    {'chain_name': 'Rho Market', 'vuln_entry': 'Privilege Abuse', 'vuln_payload': 'Price Manipulation', 'count': 1, 'loss': 7500000},\n",
    "]\n",
    "\n",
    "df_chains = pd.DataFrame(attack_chains_data)\n",
    "\n",
    "# Define Loss Brackets\n",
    "def get_loss_bracket(loss, count):\n",
    "    avg_loss = loss / count\n",
    "    if avg_loss > 50000000:\n",
    "        return 'Major Loss (> $50M)'\n",
    "    elif avg_loss > 10000000:\n",
    "        return 'High Loss ($10M - $50M)'\n",
    "    elif avg_loss > 1000000:\n",
    "        return 'Medium Loss ($1M - $10M)'\n",
    "    else:\n",
    "        return 'Low Loss (< $1M)'\n",
    "\n",
    "df_chains['Loss_Bracket'] = df_chains.apply(lambda row: get_loss_bracket(row['loss'], row['count']), axis=1)\n",
    "\n",
    "# --- Prepare data for Sankey ---\n",
    "color_palette = plotly.colors.qualitative.T10\n",
    "df_chains['color'] = [color_palette[i % len(color_palette)] for i in range(len(df_chains))]\n",
    "\n",
    "all_nodes = pd.concat([df_chains['vuln_entry'], df_chains['vuln_payload'], df_chains['Loss_Bracket']]).unique()\n",
    "node_map = {node: i for i, node in enumerate(all_nodes)}\n",
    "\n",
    "links = {'source': [], 'target': [], 'value': [], 'color': []}\n",
    "for _, row in df_chains.iterrows():\n",
    "    links['source'].append(node_map[row['vuln_entry']])\n",
    "    links['target'].append(node_map[row['vuln_payload']])\n",
    "    links['value'].append(row['count'])\n",
    "    links['color'].append(row['color'])\n",
    "    \n",
    "    links['source'].append(node_map[row['vuln_payload']])\n",
    "    links['target'].append(node_map[row['Loss_Bracket']])\n",
    "    links['value'].append(row['count'])\n",
    "    links['color'].append(row['color'])\n",
    "\n",
    "# --- Create the Figure ---\n",
    "link_colors_rgba = [f'rgba({int(c[1:3], 16)}, {int(c[3:5], 16)}, {int(c[5:7], 16)}, 0.7)' for c in links['color']]\n",
    "\n",
    "fig = go.Figure(data=[go.Sankey(\n",
    "    arrangement='snap',\n",
    "    node=dict(\n",
    "        pad=25,\n",
    "        thickness=20,\n",
    "        line=dict(color=\"black\", width=0.5),\n",
    "        label=all_nodes,\n",
    "        color='rgba(220, 220, 220, 0.9)'\n",
    "    ),\n",
    "    link=dict(\n",
    "        source=links['source'],\n",
    "        target=links['target'],\n",
    "        value=links['value'],\n",
    "        color=link_colors_rgba\n",
    "    ))])\n",
    "\n",
    "# --- Create Custom Legend ---\n",
    "annotations = []\n",
    "legend_y = 1.0\n",
    "annotations.append(dict(x=1.03, y=legend_y + 0.03, xref='paper', yref='paper', text=\"<b>Exploit Chain Legend:</b>\", showarrow=False, align='left', xanchor='left',yanchor='top', font=dict(size=14)))\n",
    "\n",
    "for _, row in df_chains.iterrows():\n",
    "    legend_text = (\n",
    "        f\"<span style='background-color:{row['color']}; border: 1px solid #555; border-radius: 4px; display: inline-block; width: 22px; height: 15px; vertical-align: middle; margin-right: 6px;'></span>\"\n",
    "        f\"<span style='vertical-align: middle;'>{row['chain_name']}</span>\"\n",
    "    )\n",
    "    annotations.append(dict(x=1.03, y=legend_y, xref='paper', yref='paper', text=legend_text, showarrow=False, align='left', xanchor='left', yanchor='top'))\n",
    "    legend_y -= 0.08\n",
    "\n",
    "fig.update_layout(\n",
    "    title_text=\"Exploit Chains: Visualizing Multi-Vulnerability Attack Paths\",\n",
    "    font_size=13,\n",
    "    width=1200,\n",
    "    height=800,\n",
    "    margin=dict(l=20, r=300, b=50, t=100),\n",
    "    annotations=annotations,\n",
    "    plot_bgcolor='white',\n",
    "    paper_bgcolor='white'\n",
    ")\n",
    "\n",
    "fig.show()"
   ]
  },
  {
   "cell_type": "code",
   "execution_count": null,
   "id": "f8738bd8",
   "metadata": {},
   "outputs": [],
   "source": []
  },
  {
   "cell_type": "code",
   "execution_count": null,
   "id": "d1053bec",
   "metadata": {},
   "outputs": [],
   "source": [
    "pip install --upgrade kaleido"
   ]
  },
  {
   "cell_type": "code",
   "execution_count": null,
   "id": "6abf111e",
   "metadata": {},
   "outputs": [],
   "source": [
    "import pandas as pd\n",
    "import plotly.graph_objects as go\n",
    "import plotly.colors\n",
    "import plotly.io as pio\n",
    "\n",
    "# Manually compiled data of multi-vulnerability attack chains\n",
    "attack_chains_data = [\n",
    "    {'chain_name': 'Euler Finance', 'vuln_entry': 'Access Control', 'vuln_payload': 'Business Logic', 'count': 1, 'loss': 197000000},\n",
    "    {'chain_name': 'LI.FI, Dexible', 'vuln_entry': 'Input Validation', 'vuln_payload': 'Unsafe Call/Delegatecall', 'count': 3, 'loss': 11600000 * 2 + 2000000},\n",
    "    {'chain_name': 'Hundred, Abracadabra', 'vuln_entry': 'Price/Logic', 'vuln_payload': 'Rounding Error', 'count': 2, 'loss': 7400000 + 6500000},\n",
    "    {'chain_name': 'Conic, EraLend, Sturdy', 'vuln_entry': 'Reentrancy', 'vuln_payload': 'Price Manipulation', 'count': 3, 'loss': 4200000 + 3400000 + 800000},\n",
    "    {'chain_name': 'KiloEx, Jimbo\\'s', 'vuln_entry': 'Access Control', 'vuln_payload': 'Price Manipulation', 'count': 2, 'loss': 7500000 * 2},\n",
    "    {'chain_name': 'Onyx Protocol', 'vuln_entry': 'Price Manipulation', 'vuln_payload': 'Input Validation', 'count': 1, 'loss': 3800000},\n",
    "    {'chain_name': 'Curio, OKX DEX', 'vuln_entry': 'Governance', 'vuln_payload': 'Dangerous Delegatecall', 'count': 2, 'loss': 16000000 + 2700000},\n",
    "    {'chain_name': 'Rho Market', 'vuln_entry': 'Privilege Abuse', 'vuln_payload': 'Price Manipulation', 'count': 1, 'loss': 7500000},\n",
    "]\n",
    "\n",
    "df_chains = pd.DataFrame(attack_chains_data)\n",
    "\n",
    "# Assign loss brackets\n",
    "def get_loss_bracket(loss, count):\n",
    "    avg_loss = loss / count\n",
    "    if avg_loss > 50000000:\n",
    "        return 'Major Loss (> $50M)'\n",
    "    elif avg_loss > 10000000:\n",
    "        return 'High Loss ($10M - $50M)'\n",
    "    elif avg_loss > 1000000:\n",
    "        return 'Medium Loss ($1M - $10M)'\n",
    "    else:\n",
    "        return 'Low Loss (< $1M)'\n",
    "\n",
    "df_chains['Loss_Bracket'] = df_chains.apply(lambda row: get_loss_bracket(row['loss'], row['count']), axis=1)\n",
    "\n",
    "# Color and pattern simulation\n",
    "color_palette = plotly.colors.qualitative.Plotly\n",
    "patterns = ['solid', 'light', 'medium', 'dense', 'very_dense']\n",
    "opacity_map = {\n",
    "    'solid': 1.0,\n",
    "    'light': 0.4,\n",
    "    'medium': 0.6,\n",
    "    'dense': 0.75,\n",
    "    'very_dense': 0.9\n",
    "}\n",
    "df_chains['color'] = [color_palette[i % len(color_palette)] for i in range(len(df_chains))]\n",
    "df_chains['pattern'] = [patterns[i % len(patterns)] for i in range(len(df_chains))]\n",
    "df_chains['opacity'] = df_chains['pattern'].map(opacity_map)\n",
    "\n",
    "# Build node mapping\n",
    "all_nodes = pd.concat([df_chains['vuln_entry'], df_chains['vuln_payload'], df_chains['Loss_Bracket']]).unique()\n",
    "node_map = {node: i for i, node in enumerate(all_nodes)}\n",
    "\n",
    "# Create links\n",
    "sources, targets, values, colors, labels = [], [], [], [], []\n",
    "\n",
    "for _, row in df_chains.iterrows():\n",
    "    rgba = lambda hex_color, opacity: f'rgba({int(hex_color[1:3], 16)}, {int(hex_color[3:5], 16)}, {int(hex_color[5:7], 16)}, {opacity})'\n",
    "    color = rgba(row['color'], row['opacity'])\n",
    "\n",
    "    # Entry → Payload\n",
    "    sources.append(node_map[row['vuln_entry']])\n",
    "    targets.append(node_map[row['vuln_payload']])\n",
    "    values.append(row['count'])\n",
    "    colors.append(color)\n",
    "    labels.append(f\"{row['count']} attack(s)\")\n",
    "\n",
    "    # Payload → Loss\n",
    "    sources.append(node_map[row['vuln_payload']])\n",
    "    targets.append(node_map[row['Loss_Bracket']])\n",
    "    values.append(row['count'])\n",
    "    colors.append(color)\n",
    "    labels.append(f\"{row['count']} attack(s)\")\n",
    "\n",
    "# Sankey diagram\n",
    "fig = go.Figure(data=[go.Sankey(\n",
    "    arrangement='snap',\n",
    "    node=dict(\n",
    "        pad=25,\n",
    "        thickness=20,\n",
    "        line=dict(color=\"black\", width=0.5),\n",
    "        label=list(all_nodes),\n",
    "        color='rgba(200, 200, 200, 0.8)'\n",
    "    ),\n",
    "    link=dict(\n",
    "        source=sources,\n",
    "        target=targets,\n",
    "        value=values,\n",
    "        color=colors,\n",
    "        label=labels\n",
    "    )\n",
    ")])\n",
    "\n",
    "# Add custom legend\n",
    "annotations = []\n",
    "legend_y = 1.0\n",
    "for _, row in df_chains.iterrows():\n",
    "    annotations.append(dict(\n",
    "        x=1.05,\n",
    "        y=legend_y,\n",
    "        xref='paper',\n",
    "        yref='paper',\n",
    "        text=f\"<span style='color:{row['color']}; font-size: 18px;'>■</span> {row['chain_name']} ({row['pattern']})\",\n",
    "        showarrow=False,\n",
    "        align='left',\n",
    "        xanchor='left',\n",
    "        yanchor='top'\n",
    "    ))\n",
    "    legend_y -= 0.06\n",
    "\n",
    "fig.update_layout(\n",
    "    title_text=\"Exploit Chains: Visualizing Multi-Vulnerability Attack Paths\",\n",
    "    font_size=12,\n",
    "    width=1200,\n",
    "    height=700,\n",
    "    margin=dict(l=20, r=280, b=50, t=100),\n",
    "    annotations=annotations\n",
    ")\n",
    "\n",
    "# Export to PDF using kaleido\n",
    "pio.write_image(fig, \"exploit_chains.pdf\", format='pdf', width=1200, height=700)\n",
    "\n",
    "# Show the figure in the notebook/browser\n",
    "fig.show()\n"
   ]
  },
  {
   "cell_type": "code",
   "execution_count": 28,
   "id": "d304bf9e",
   "metadata": {},
   "outputs": [
    {
     "data": {
      "application/vnd.plotly.v1+json": {
       "config": {
        "plotlyServerURL": "https://plot.ly"
       },
       "data": [
        {
         "arrangement": "snap",
         "link": {
          "color": [
           "rgba(76, 120, 168, 0.7)",
           "rgba(76, 120, 168, 0.7)",
           "rgba(245, 133, 24, 0.7)",
           "rgba(245, 133, 24, 0.7)",
           "rgba(228, 87, 86, 0.7)",
           "rgba(228, 87, 86, 0.7)",
           "rgba(114, 183, 178, 0.7)",
           "rgba(114, 183, 178, 0.7)",
           "rgba(84, 162, 75, 0.7)",
           "rgba(84, 162, 75, 0.7)",
           "rgba(238, 202, 59, 0.7)",
           "rgba(238, 202, 59, 0.7)",
           "rgba(178, 121, 162, 0.7)",
           "rgba(178, 121, 162, 0.7)",
           "rgba(255, 157, 166, 0.7)",
           "rgba(255, 157, 166, 0.7)"
          ],
          "source": [
           0,
           7,
           1,
           8,
           2,
           9,
           3,
           4,
           0,
           4,
           4,
           10,
           5,
           11,
           6,
           4
          ],
          "target": [
           7,
           12,
           8,
           13,
           9,
           13,
           4,
           13,
           4,
           13,
           10,
           13,
           11,
           13,
           4,
           13
          ],
          "value": [
           1,
           1,
           3,
           3,
           2,
           2,
           3,
           3,
           2,
           2,
           1,
           1,
           2,
           2,
           1,
           1
          ]
         },
         "node": {
          "color": "rgba(220, 220, 220, 0.9)",
          "label": [
           "Access Control",
           "Access / Input Validation",
           "Price & Logic Flaw",
           "Reentrancy",
           "Price Manipulation",
           "Governance / Privilege Abuse",
           "Privilege Abuse",
           "Business Logic",
           "Unsafe External Call",
           "Rounding Error",
           "Input Validation",
           "Dangerous Delegatecall",
           "Major Loss (> $50M)",
           "Medium Loss ($1M - $10M)"
          ],
          "line": {
           "color": "black",
           "width": 0.5
          },
          "pad": 25,
          "thickness": 20
         },
         "textfont": {
          "color": "black",
          "size": 15
         },
         "type": "sankey"
        },
        {
         "legendgroup": "Euler Finance",
         "marker": {
          "color": "#4C78A8",
          "size": 12
         },
         "mode": "markers",
         "name": "Euler Finance",
         "showlegend": true,
         "type": "scatter",
         "x": [
          null
         ],
         "y": [
          null
         ]
        },
        {
         "legendgroup": "LI.FI, Dexible",
         "marker": {
          "color": "#F58518",
          "size": 12
         },
         "mode": "markers",
         "name": "LI.FI, Dexible",
         "showlegend": true,
         "type": "scatter",
         "x": [
          null
         ],
         "y": [
          null
         ]
        },
        {
         "legendgroup": "Hundred, Abracadabra",
         "marker": {
          "color": "#E45756",
          "size": 12
         },
         "mode": "markers",
         "name": "Hundred, Abracadabra",
         "showlegend": true,
         "type": "scatter",
         "x": [
          null
         ],
         "y": [
          null
         ]
        },
        {
         "legendgroup": "Conic, EraLend, Sturdy",
         "marker": {
          "color": "#72B7B2",
          "size": 12
         },
         "mode": "markers",
         "name": "Conic, EraLend, Sturdy",
         "showlegend": true,
         "type": "scatter",
         "x": [
          null
         ],
         "y": [
          null
         ]
        },
        {
         "legendgroup": "KiloEx, Jimbo's",
         "marker": {
          "color": "#54A24B",
          "size": 12
         },
         "mode": "markers",
         "name": "KiloEx, Jimbo's",
         "showlegend": true,
         "type": "scatter",
         "x": [
          null
         ],
         "y": [
          null
         ]
        },
        {
         "legendgroup": "Onyx Protocol",
         "marker": {
          "color": "#EECA3B",
          "size": 12
         },
         "mode": "markers",
         "name": "Onyx Protocol",
         "showlegend": true,
         "type": "scatter",
         "x": [
          null
         ],
         "y": [
          null
         ]
        },
        {
         "legendgroup": "Curio, OKX DEX",
         "marker": {
          "color": "#B279A2",
          "size": 12
         },
         "mode": "markers",
         "name": "Curio, OKX DEX",
         "showlegend": true,
         "type": "scatter",
         "x": [
          null
         ],
         "y": [
          null
         ]
        },
        {
         "legendgroup": "Rho Market",
         "marker": {
          "color": "#FF9DA6",
          "size": 12
         },
         "mode": "markers",
         "name": "Rho Market",
         "showlegend": true,
         "type": "scatter",
         "x": [
          null
         ],
         "y": [
          null
         ]
        }
       ],
       "layout": {
        "font": {
         "size": 13
        },
        "height": 700,
        "legend": {
         "bgcolor": "rgba(255,255,255,0.8)",
         "font": {
          "color": "black",
          "size": 15
         },
         "orientation": "v",
         "title": {
          "font": {
           "color": "black",
           "size": 15
          },
          "text": "Incident Chains"
         },
         "x": 1.26,
         "xanchor": "right",
         "y": 1,
         "yanchor": "top"
        },
        "margin": {
         "b": 10,
         "l": 10,
         "r": 10,
         "t": 10
        },
        "paper_bgcolor": "white",
        "plot_bgcolor": "white",
        "template": {
         "data": {
          "bar": [
           {
            "error_x": {
             "color": "#2a3f5f"
            },
            "error_y": {
             "color": "#2a3f5f"
            },
            "marker": {
             "line": {
              "color": "#E5ECF6",
              "width": 0.5
             },
             "pattern": {
              "fillmode": "overlay",
              "size": 10,
              "solidity": 0.2
             }
            },
            "type": "bar"
           }
          ],
          "barpolar": [
           {
            "marker": {
             "line": {
              "color": "#E5ECF6",
              "width": 0.5
             },
             "pattern": {
              "fillmode": "overlay",
              "size": 10,
              "solidity": 0.2
             }
            },
            "type": "barpolar"
           }
          ],
          "carpet": [
           {
            "aaxis": {
             "endlinecolor": "#2a3f5f",
             "gridcolor": "white",
             "linecolor": "white",
             "minorgridcolor": "white",
             "startlinecolor": "#2a3f5f"
            },
            "baxis": {
             "endlinecolor": "#2a3f5f",
             "gridcolor": "white",
             "linecolor": "white",
             "minorgridcolor": "white",
             "startlinecolor": "#2a3f5f"
            },
            "type": "carpet"
           }
          ],
          "choropleth": [
           {
            "colorbar": {
             "outlinewidth": 0,
             "ticks": ""
            },
            "type": "choropleth"
           }
          ],
          "contour": [
           {
            "colorbar": {
             "outlinewidth": 0,
             "ticks": ""
            },
            "colorscale": [
             [
              0,
              "#0d0887"
             ],
             [
              0.1111111111111111,
              "#46039f"
             ],
             [
              0.2222222222222222,
              "#7201a8"
             ],
             [
              0.3333333333333333,
              "#9c179e"
             ],
             [
              0.4444444444444444,
              "#bd3786"
             ],
             [
              0.5555555555555556,
              "#d8576b"
             ],
             [
              0.6666666666666666,
              "#ed7953"
             ],
             [
              0.7777777777777778,
              "#fb9f3a"
             ],
             [
              0.8888888888888888,
              "#fdca26"
             ],
             [
              1,
              "#f0f921"
             ]
            ],
            "type": "contour"
           }
          ],
          "contourcarpet": [
           {
            "colorbar": {
             "outlinewidth": 0,
             "ticks": ""
            },
            "type": "contourcarpet"
           }
          ],
          "heatmap": [
           {
            "colorbar": {
             "outlinewidth": 0,
             "ticks": ""
            },
            "colorscale": [
             [
              0,
              "#0d0887"
             ],
             [
              0.1111111111111111,
              "#46039f"
             ],
             [
              0.2222222222222222,
              "#7201a8"
             ],
             [
              0.3333333333333333,
              "#9c179e"
             ],
             [
              0.4444444444444444,
              "#bd3786"
             ],
             [
              0.5555555555555556,
              "#d8576b"
             ],
             [
              0.6666666666666666,
              "#ed7953"
             ],
             [
              0.7777777777777778,
              "#fb9f3a"
             ],
             [
              0.8888888888888888,
              "#fdca26"
             ],
             [
              1,
              "#f0f921"
             ]
            ],
            "type": "heatmap"
           }
          ],
          "histogram": [
           {
            "marker": {
             "pattern": {
              "fillmode": "overlay",
              "size": 10,
              "solidity": 0.2
             }
            },
            "type": "histogram"
           }
          ],
          "histogram2d": [
           {
            "colorbar": {
             "outlinewidth": 0,
             "ticks": ""
            },
            "colorscale": [
             [
              0,
              "#0d0887"
             ],
             [
              0.1111111111111111,
              "#46039f"
             ],
             [
              0.2222222222222222,
              "#7201a8"
             ],
             [
              0.3333333333333333,
              "#9c179e"
             ],
             [
              0.4444444444444444,
              "#bd3786"
             ],
             [
              0.5555555555555556,
              "#d8576b"
             ],
             [
              0.6666666666666666,
              "#ed7953"
             ],
             [
              0.7777777777777778,
              "#fb9f3a"
             ],
             [
              0.8888888888888888,
              "#fdca26"
             ],
             [
              1,
              "#f0f921"
             ]
            ],
            "type": "histogram2d"
           }
          ],
          "histogram2dcontour": [
           {
            "colorbar": {
             "outlinewidth": 0,
             "ticks": ""
            },
            "colorscale": [
             [
              0,
              "#0d0887"
             ],
             [
              0.1111111111111111,
              "#46039f"
             ],
             [
              0.2222222222222222,
              "#7201a8"
             ],
             [
              0.3333333333333333,
              "#9c179e"
             ],
             [
              0.4444444444444444,
              "#bd3786"
             ],
             [
              0.5555555555555556,
              "#d8576b"
             ],
             [
              0.6666666666666666,
              "#ed7953"
             ],
             [
              0.7777777777777778,
              "#fb9f3a"
             ],
             [
              0.8888888888888888,
              "#fdca26"
             ],
             [
              1,
              "#f0f921"
             ]
            ],
            "type": "histogram2dcontour"
           }
          ],
          "mesh3d": [
           {
            "colorbar": {
             "outlinewidth": 0,
             "ticks": ""
            },
            "type": "mesh3d"
           }
          ],
          "parcoords": [
           {
            "line": {
             "colorbar": {
              "outlinewidth": 0,
              "ticks": ""
             }
            },
            "type": "parcoords"
           }
          ],
          "pie": [
           {
            "automargin": true,
            "type": "pie"
           }
          ],
          "scatter": [
           {
            "fillpattern": {
             "fillmode": "overlay",
             "size": 10,
             "solidity": 0.2
            },
            "type": "scatter"
           }
          ],
          "scatter3d": [
           {
            "line": {
             "colorbar": {
              "outlinewidth": 0,
              "ticks": ""
             }
            },
            "marker": {
             "colorbar": {
              "outlinewidth": 0,
              "ticks": ""
             }
            },
            "type": "scatter3d"
           }
          ],
          "scattercarpet": [
           {
            "marker": {
             "colorbar": {
              "outlinewidth": 0,
              "ticks": ""
             }
            },
            "type": "scattercarpet"
           }
          ],
          "scattergeo": [
           {
            "marker": {
             "colorbar": {
              "outlinewidth": 0,
              "ticks": ""
             }
            },
            "type": "scattergeo"
           }
          ],
          "scattergl": [
           {
            "marker": {
             "colorbar": {
              "outlinewidth": 0,
              "ticks": ""
             }
            },
            "type": "scattergl"
           }
          ],
          "scattermap": [
           {
            "marker": {
             "colorbar": {
              "outlinewidth": 0,
              "ticks": ""
             }
            },
            "type": "scattermap"
           }
          ],
          "scattermapbox": [
           {
            "marker": {
             "colorbar": {
              "outlinewidth": 0,
              "ticks": ""
             }
            },
            "type": "scattermapbox"
           }
          ],
          "scatterpolar": [
           {
            "marker": {
             "colorbar": {
              "outlinewidth": 0,
              "ticks": ""
             }
            },
            "type": "scatterpolar"
           }
          ],
          "scatterpolargl": [
           {
            "marker": {
             "colorbar": {
              "outlinewidth": 0,
              "ticks": ""
             }
            },
            "type": "scatterpolargl"
           }
          ],
          "scatterternary": [
           {
            "marker": {
             "colorbar": {
              "outlinewidth": 0,
              "ticks": ""
             }
            },
            "type": "scatterternary"
           }
          ],
          "surface": [
           {
            "colorbar": {
             "outlinewidth": 0,
             "ticks": ""
            },
            "colorscale": [
             [
              0,
              "#0d0887"
             ],
             [
              0.1111111111111111,
              "#46039f"
             ],
             [
              0.2222222222222222,
              "#7201a8"
             ],
             [
              0.3333333333333333,
              "#9c179e"
             ],
             [
              0.4444444444444444,
              "#bd3786"
             ],
             [
              0.5555555555555556,
              "#d8576b"
             ],
             [
              0.6666666666666666,
              "#ed7953"
             ],
             [
              0.7777777777777778,
              "#fb9f3a"
             ],
             [
              0.8888888888888888,
              "#fdca26"
             ],
             [
              1,
              "#f0f921"
             ]
            ],
            "type": "surface"
           }
          ],
          "table": [
           {
            "cells": {
             "fill": {
              "color": "#EBF0F8"
             },
             "line": {
              "color": "white"
             }
            },
            "header": {
             "fill": {
              "color": "#C8D4E3"
             },
             "line": {
              "color": "white"
             }
            },
            "type": "table"
           }
          ]
         },
         "layout": {
          "annotationdefaults": {
           "arrowcolor": "#2a3f5f",
           "arrowhead": 0,
           "arrowwidth": 1
          },
          "autotypenumbers": "strict",
          "coloraxis": {
           "colorbar": {
            "outlinewidth": 0,
            "ticks": ""
           }
          },
          "colorscale": {
           "diverging": [
            [
             0,
             "#8e0152"
            ],
            [
             0.1,
             "#c51b7d"
            ],
            [
             0.2,
             "#de77ae"
            ],
            [
             0.3,
             "#f1b6da"
            ],
            [
             0.4,
             "#fde0ef"
            ],
            [
             0.5,
             "#f7f7f7"
            ],
            [
             0.6,
             "#e6f5d0"
            ],
            [
             0.7,
             "#b8e186"
            ],
            [
             0.8,
             "#7fbc41"
            ],
            [
             0.9,
             "#4d9221"
            ],
            [
             1,
             "#276419"
            ]
           ],
           "sequential": [
            [
             0,
             "#0d0887"
            ],
            [
             0.1111111111111111,
             "#46039f"
            ],
            [
             0.2222222222222222,
             "#7201a8"
            ],
            [
             0.3333333333333333,
             "#9c179e"
            ],
            [
             0.4444444444444444,
             "#bd3786"
            ],
            [
             0.5555555555555556,
             "#d8576b"
            ],
            [
             0.6666666666666666,
             "#ed7953"
            ],
            [
             0.7777777777777778,
             "#fb9f3a"
            ],
            [
             0.8888888888888888,
             "#fdca26"
            ],
            [
             1,
             "#f0f921"
            ]
           ],
           "sequentialminus": [
            [
             0,
             "#0d0887"
            ],
            [
             0.1111111111111111,
             "#46039f"
            ],
            [
             0.2222222222222222,
             "#7201a8"
            ],
            [
             0.3333333333333333,
             "#9c179e"
            ],
            [
             0.4444444444444444,
             "#bd3786"
            ],
            [
             0.5555555555555556,
             "#d8576b"
            ],
            [
             0.6666666666666666,
             "#ed7953"
            ],
            [
             0.7777777777777778,
             "#fb9f3a"
            ],
            [
             0.8888888888888888,
             "#fdca26"
            ],
            [
             1,
             "#f0f921"
            ]
           ]
          },
          "colorway": [
           "#636efa",
           "#EF553B",
           "#00cc96",
           "#ab63fa",
           "#FFA15A",
           "#19d3f3",
           "#FF6692",
           "#B6E880",
           "#FF97FF",
           "#FECB52"
          ],
          "font": {
           "color": "#2a3f5f"
          },
          "geo": {
           "bgcolor": "white",
           "lakecolor": "white",
           "landcolor": "#E5ECF6",
           "showlakes": true,
           "showland": true,
           "subunitcolor": "white"
          },
          "hoverlabel": {
           "align": "left"
          },
          "hovermode": "closest",
          "mapbox": {
           "style": "light"
          },
          "paper_bgcolor": "white",
          "plot_bgcolor": "#E5ECF6",
          "polar": {
           "angularaxis": {
            "gridcolor": "white",
            "linecolor": "white",
            "ticks": ""
           },
           "bgcolor": "#E5ECF6",
           "radialaxis": {
            "gridcolor": "white",
            "linecolor": "white",
            "ticks": ""
           }
          },
          "scene": {
           "xaxis": {
            "backgroundcolor": "#E5ECF6",
            "gridcolor": "white",
            "gridwidth": 2,
            "linecolor": "white",
            "showbackground": true,
            "ticks": "",
            "zerolinecolor": "white"
           },
           "yaxis": {
            "backgroundcolor": "#E5ECF6",
            "gridcolor": "white",
            "gridwidth": 2,
            "linecolor": "white",
            "showbackground": true,
            "ticks": "",
            "zerolinecolor": "white"
           },
           "zaxis": {
            "backgroundcolor": "#E5ECF6",
            "gridcolor": "white",
            "gridwidth": 2,
            "linecolor": "white",
            "showbackground": true,
            "ticks": "",
            "zerolinecolor": "white"
           }
          },
          "shapedefaults": {
           "line": {
            "color": "#2a3f5f"
           }
          },
          "ternary": {
           "aaxis": {
            "gridcolor": "white",
            "linecolor": "white",
            "ticks": ""
           },
           "baxis": {
            "gridcolor": "white",
            "linecolor": "white",
            "ticks": ""
           },
           "bgcolor": "#E5ECF6",
           "caxis": {
            "gridcolor": "white",
            "linecolor": "white",
            "ticks": ""
           }
          },
          "title": {
           "x": 0.05
          },
          "xaxis": {
           "automargin": true,
           "gridcolor": "white",
           "linecolor": "white",
           "ticks": "",
           "title": {
            "standoff": 15
           },
           "zerolinecolor": "white",
           "zerolinewidth": 2
          },
          "yaxis": {
           "automargin": true,
           "gridcolor": "white",
           "linecolor": "white",
           "ticks": "",
           "title": {
            "standoff": 15
           },
           "zerolinecolor": "white",
           "zerolinewidth": 2
          }
         }
        },
        "width": 1100,
        "xaxis": {
         "showgrid": false,
         "showticklabels": false,
         "zeroline": false
        },
        "yaxis": {
         "showgrid": false,
         "showticklabels": false,
         "zeroline": false
        }
       }
      }
     },
     "metadata": {},
     "output_type": "display_data"
    }
   ],
   "source": [
    "\n",
    "import pandas as pd\n",
    "import plotly.graph_objects as go\n",
    "import plotly.colors\n",
    "\n",
    "# Manually compiled data of multi-vulnerability attack chains.\n",
    "attack_chains_data = [\n",
    "    {'chain_name': 'Euler Finance', 'vuln_entry': 'Access Control', 'vuln_payload': 'Business Logic', 'count': 1, 'loss': 197000000},\n",
    "    {'chain_name': 'LI.FI, Dexible', 'vuln_entry': 'Access / Input Validation', 'vuln_payload': 'Unsafe External Call', 'count': 3, 'loss': 11600000 * 2 + 2000000},\n",
    "    {'chain_name': 'Hundred, Abracadabra', 'vuln_entry': 'Price & Logic Flaw', 'vuln_payload': 'Rounding Error', 'count': 2, 'loss': 7400000 + 6500000},\n",
    "    {'chain_name': 'Conic, EraLend, Sturdy', 'vuln_entry': 'Reentrancy', 'vuln_payload': 'Price Manipulation', 'count': 3, 'loss': 4200000 + 3400000 + 800000},\n",
    "    {'chain_name': 'KiloEx, Jimbo\\'s', 'vuln_entry': 'Access Control', 'vuln_payload': 'Price Manipulation', 'count': 2, 'loss': 7500000 * 2},\n",
    "    {'chain_name': 'Onyx Protocol', 'vuln_entry': 'Price Manipulation', 'vuln_payload': 'Input Validation', 'count': 1, 'loss': 3800000},\n",
    "    {'chain_name': 'Curio, OKX DEX', 'vuln_entry': 'Governance / Privilege Abuse', 'vuln_payload': 'Dangerous Delegatecall', 'count': 2, 'loss': 16000000 + 2700000},\n",
    "    {'chain_name': 'Rho Market', 'vuln_entry': 'Privilege Abuse', 'vuln_payload': 'Price Manipulation', 'count': 1, 'loss': 7500000},\n",
    "]\n",
    "\n",
    "df_chains = pd.DataFrame(attack_chains_data)\n",
    "\n",
    "# Define Loss Brackets\n",
    "def get_loss_bracket(loss, count):\n",
    "    avg_loss = loss / count\n",
    "    if avg_loss > 50000000:\n",
    "        return 'Major Loss (> $50M)'\n",
    "    elif avg_loss > 10000000:\n",
    "        return 'High Loss ($10M - $50M)'\n",
    "    elif avg_loss > 1000000:\n",
    "        return 'Medium Loss ($1M - $10M)'\n",
    "    else:\n",
    "        return 'Low Loss (< $1M)'\n",
    "\n",
    "df_chains['Loss_Bracket'] = df_chains.apply(lambda row: get_loss_bracket(row['loss'], row['count']), axis=1)\n",
    "\n",
    "# --- Prepare data for Sankey ---\n",
    "color_palette = plotly.colors.qualitative.T10\n",
    "df_chains['color'] = [color_palette[i % len(color_palette)] for i in range(len(df_chains))]\n",
    "\n",
    "all_nodes = pd.concat([df_chains['vuln_entry'], df_chains['vuln_payload'], df_chains['Loss_Bracket']]).unique()\n",
    "node_map = {node: i for i, node in enumerate(all_nodes)}\n",
    "\n",
    "links = {'source': [], 'target': [], 'value': [], 'color': []}\n",
    "for _, row in df_chains.iterrows():\n",
    "    links['source'].append(node_map[row['vuln_entry']])\n",
    "    links['target'].append(node_map[row['vuln_payload']])\n",
    "    links['value'].append(row['count'])\n",
    "    links['color'].append(row['color'])\n",
    "    \n",
    "    links['source'].append(node_map[row['vuln_payload']])\n",
    "    links['target'].append(node_map[row['Loss_Bracket']])\n",
    "    links['value'].append(row['count'])\n",
    "    links['color'].append(row['color'])\n",
    "\n",
    "# --- Create the Figure ---\n",
    "link_colors_rgba = [f'rgba({int(c[1:3], 16)}, {int(c[3:5], 16)}, {int(c[5:7], 16)}, 0.7)' for c in links['color']]\n",
    "\n",
    "fig = go.Figure(data=[go.Sankey(\n",
    "    arrangement='snap',\n",
    "    node=dict(\n",
    "        pad=25,\n",
    "        thickness=20,\n",
    "        line=dict(color=\"black\", width=0.5),\n",
    "        label=all_nodes,\n",
    "        color='rgba(220, 220, 220, 0.9)'\n",
    "    ),\n",
    "    link=dict(\n",
    "        source=links['source'],\n",
    "        target=links['target'],\n",
    "        value=links['value'],\n",
    "        color=link_colors_rgba\n",
    "    ),\n",
    "    textfont=dict(color='black', size=15)  # ✅ Correct placement\n",
    ")],\n",
    "    )\n",
    "\n",
    "# Add a manual legend mapping each color to the chain_name\n",
    "for _, row in df_chains.iterrows():\n",
    "    fig.add_trace(go.Scatter(\n",
    "        x=[None], y=[None],\n",
    "        mode='markers',\n",
    "        marker=dict(size=12, color=row['color']),\n",
    "        legendgroup=row['chain_name'],\n",
    "        showlegend=True,\n",
    "        name=row['chain_name']\n",
    "    ))\n",
    "\n",
    "fig.update_layout(\n",
    "    font_size=13,\n",
    "    width=1100,\n",
    "    height=700,\n",
    "    plot_bgcolor='white',\n",
    "    paper_bgcolor='white',\n",
    "    legend=dict(\n",
    "        title=\"Incident Chains\",\n",
    "        orientation=\"v\",\n",
    "        yanchor=\"top\",\n",
    "        y=1.0,\n",
    "        xanchor=\"right\",\n",
    "        x=1.26,\n",
    "        font=dict(size=15, color='black'),  # Increased size and darker font\n",
    "        title_font=dict(size=15, color='black'),  # Optional: style title separately\n",
    "        bgcolor='rgba(255,255,255,0.8)'\n",
    "    ),\n",
    "    xaxis=dict(showticklabels=False, showgrid=False, zeroline=False),\n",
    "    yaxis=dict(showticklabels=False, showgrid=False, zeroline=False),\n",
    "    margin=dict(l=10, r=10, t=10, b=10),  # left, right, top, bottom\n",
    ")\n",
    "\n",
    "import plotly.io as pio\n",
    "\n",
    "# Save as PDF\n",
    "#pio.write_image(fig, \"exploit_chains_sankey.pdf\", format='pdf', width=1100, height=700)\n",
    "\n",
    "pio.write_image(\n",
    "    fig,\n",
    "    \"exploit_chains_sankey.pdf\",\n",
    "    format=\"pdf\",\n",
    "    width=1100,  # or increase to 1600 for journal quality\n",
    "    height=600,\n",
    "    scale=1  # keep scale=1 for vector PDF\n",
    ")\n",
    "\n",
    "fig.show()"
   ]
  },
  {
   "cell_type": "code",
   "execution_count": null,
   "id": "4ac9d268",
   "metadata": {},
   "outputs": [],
   "source": []
  }
 ],
 "metadata": {
  "kernelspec": {
   "display_name": "base",
   "language": "python",
   "name": "python3"
  },
  "language_info": {
   "codemirror_mode": {
    "name": "ipython",
    "version": 3
   },
   "file_extension": ".py",
   "mimetype": "text/x-python",
   "name": "python",
   "nbconvert_exporter": "python",
   "pygments_lexer": "ipython3",
   "version": "3.8.17"
  }
 },
 "nbformat": 4,
 "nbformat_minor": 5
}
